{
 "cells": [
  {
   "cell_type": "code",
   "execution_count": 2,
   "metadata": {
    "collapsed": true
   },
   "outputs": [],
   "source": [
    "from __future__ import print_function, division\n",
    "\n",
    "import time\n",
    "import datetime\n",
    "from dateutil import parser\n",
    "\n",
    "import numpy as np\n",
    "import matplotlib.pyplot as plt\n",
    "import pandas as pd\n",
    "%matplotlib inline\n",
    "\n",
    "import re\n",
    "import string\n",
    "import pprint\n",
    "from textblob import TextBlob\n",
    "\n",
    "import os\n",
    "import subprocess\n",
    "\n",
    "from nltk.corpus import stopwords, wordnet\n",
    "from nltk.tokenize import word_tokenize\n",
    "from nltk.stem import SnowballStemmer"
   ]
  },
  {
   "cell_type": "code",
   "execution_count": 3,
   "metadata": {
    "collapsed": true
   },
   "outputs": [],
   "source": [
    "from pymongo import MongoClient\n",
    "client = MongoClient(port=12345)# Tunnel to my mongoDB client\n",
    "db = client.tech_news_data\n",
    "arts = db.articles"
   ]
  },
  {
   "cell_type": "code",
   "execution_count": 4,
   "metadata": {},
   "outputs": [
    {
     "data": {
      "text/plain": [
       "1409"
      ]
     },
     "execution_count": 4,
     "metadata": {},
     "output_type": "execute_result"
    }
   ],
   "source": [
    "arts.count()"
   ]
  },
  {
   "cell_type": "markdown",
   "metadata": {},
   "source": [
    "# Random pull"
   ]
  },
  {
   "cell_type": "code",
   "execution_count": 5,
   "metadata": {},
   "outputs": [
    {
     "data": {
      "text/plain": [
       "'Thirty Meter Telescope nears a construction permit—with conditions'"
      ]
     },
     "execution_count": 5,
     "metadata": {},
     "output_type": "execute_result"
    }
   ],
   "source": [
    "#pull a random document from database\n",
    "import random\n",
    "def get_random_doc():\n",
    "    c = arts.find()\n",
    "    count = c.count()\n",
    "    return c[random.randrange(count)]\n",
    "\n",
    "doc = get_random_doc()['title']\n",
    "\n",
    "doc"
   ]
  },
  {
   "cell_type": "markdown",
   "metadata": {},
   "source": [
    "# Extraction and processing"
   ]
  },
  {
   "cell_type": "code",
   "execution_count": 5,
   "metadata": {
    "collapsed": true
   },
   "outputs": [],
   "source": [
    "class Articles(object):\n",
    "    \"\"\"A memory-friendly way to load large corpora\"\"\"\n",
    "    def __init__(self, connection):\n",
    "        self.connection = connection\n",
    "\n",
    "    def __iter__(self):\n",
    "        # iterate through all file names in our directory\n",
    "        for item in self.connection.find():\n",
    "            yield item\n"
   ]
  },
  {
   "cell_type": "code",
   "execution_count": 6,
   "metadata": {
    "collapsed": true
   },
   "outputs": [],
   "source": [
    "def preprocess_series_text(data):\n",
    "    \"\"\"Perform complete preprocessing on a Pandas series\n",
    "       including removal of alpha numerical words, normalization,\n",
    "       punctuation removal, tokenization, stop word removal, \n",
    "       and lemmatization.\"\"\"\n",
    "    \n",
    "    # remove alpha numerical words and make lowercase\n",
    "    alphanum_re = re.compile(r\"\"\"\\w*\\d\\w*\"\"\")\n",
    "    alphanum_lambda = lambda x: alphanum_re.sub('', x.strip().lower())\n",
    "    data = data.map(alphanum_lambda)\n",
    "\n",
    "    #some characters don't show up in standard punctuation\n",
    "    punct = string.punctuation + '‘’“”£€–…'\n",
    "    # remove punctuation\n",
    "    punc_re = re.compile('[%s]' % re.escape(punct))\n",
    "    punc_lambda = lambda x: punc_re.sub(' ', x)\n",
    "    data = data.map(punc_lambda)\n",
    "\n",
    "    # tokenize words\n",
    "    data = data.map(word_tokenize)\n",
    "\n",
    "    # remove stop words\n",
    "    sw = stopwords.words('english')\n",
    "    sw_lambda = lambda x: list(filter(lambda y: y not in sw, x))\n",
    "\n",
    "    data = data.map(sw_lambda) \n",
    "    \n",
    "    # stem words\n",
    "    stemmer = SnowballStemmer('english')\n",
    "    stemmer_fun = lambda x: list(map(stemmer.stem, x))\n",
    "    data = data.map(stemmer_fun)\n",
    "    \n",
    "    return data"
   ]
  },
  {
   "cell_type": "code",
   "execution_count": 7,
   "metadata": {
    "collapsed": true
   },
   "outputs": [],
   "source": [
    "from nltk.sentiment import SentimentAnalyzer\n",
    "from nltk.sentiment.util import *\n",
    "from nltk.sentiment.vader import SentimentIntensityAnalyzer\n",
    "\n",
    "sent = SentimentIntensityAnalyzer()"
   ]
  },
  {
   "cell_type": "code",
   "execution_count": 8,
   "metadata": {},
   "outputs": [
    {
     "data": {
      "text/plain": [
       "-0.3612"
      ]
     },
     "execution_count": 8,
     "metadata": {},
     "output_type": "execute_result"
    }
   ],
   "source": [
    "#testing the sentiment analyzer\n",
    "sent.polarity_scores('the quick brown fox jumps over the lazy dog')['compound']"
   ]
  },
  {
   "cell_type": "code",
   "execution_count": 29,
   "metadata": {
    "collapsed": true
   },
   "outputs": [],
   "source": [
    "#Load mongodb data into pandas and process\n",
    "\n",
    "articles = Articles(arts)\n",
    "\n",
    "art_df = pd.DataFrame.from_dict(list(articles))\n",
    "art_df.drop('_id', axis=1, inplace=True)\n",
    "art_df['tags'] = art_df['tags'].apply(lambda x: list(set([i.lower() for i in x])))\n",
    "\n",
    "art_df['polarity'] = art_df['body'].apply(lambda x: sent.polarity_scores(x)['compound'])\n",
    "art_df['polarity'].fillna(0)\n",
    "\n",
    "#Wipe empty rows\n",
    "\n",
    "#art_df['title2'] = preprocess_series_text(art_df['title'])\n",
    "#mask = art_df['title2'].map(len) > 0\n",
    "#art_df['title2'] = art_df['title2'].loc[mask].reset_index(drop=True)\n",
    "#art_df['title2'] = art_df['title2'].apply(lambda x: ' '.join(x))\n",
    "\n",
    "art_df['body'] = preprocess_series_text(art_df['body'])\n",
    "mask = art_df['body'].map(len) > 0\n",
    "art_df['body'] = art_df['body'].loc[mask].reset_index(drop=True)\n",
    "art_df['body'] = art_df['body'].apply(lambda x: ' '.join(x))"
   ]
  },
  {
   "cell_type": "code",
   "execution_count": 55,
   "metadata": {
    "collapsed": true
   },
   "outputs": [],
   "source": [
    "date = datetime.datetime.today() -  datetime.timedelta(days=7)\n",
    "\n",
    "art_df = art_df[art_df.date >= date]"
   ]
  },
  {
   "cell_type": "code",
   "execution_count": 56,
   "metadata": {},
   "outputs": [
    {
     "data": {
      "text/plain": [
       "(494, 8)"
      ]
     },
     "execution_count": 56,
     "metadata": {},
     "output_type": "execute_result"
    }
   ],
   "source": [
    "art_df.shape"
   ]
  },
  {
   "cell_type": "code",
   "execution_count": 57,
   "metadata": {},
   "outputs": [
    {
     "data": {
      "text/plain": [
       "date\n",
       "2017-08-11     82\n",
       "2017-08-12     17\n",
       "2017-08-13     19\n",
       "2017-08-14    106\n",
       "2017-08-15     91\n",
       "2017-08-16    101\n",
       "2017-08-17     78\n",
       "Name: body, dtype: int64"
      ]
     },
     "execution_count": 57,
     "metadata": {},
     "output_type": "execute_result"
    }
   ],
   "source": [
    "art_df.groupby(['date'])['body'].count()"
   ]
  },
  {
   "cell_type": "code",
   "execution_count": 36,
   "metadata": {},
   "outputs": [
    {
     "data": {
      "text/plain": [
       "<matplotlib.text.Text at 0x19e5187cb70>"
      ]
     },
     "execution_count": 36,
     "metadata": {},
     "output_type": "execute_result"
    },
    {
     "data": {
      "image/png": "[encoded data removed]",
      "text/plain": [
       "<matplotlib.figure.Figure at 0x19e4d291780>"
      ]
     },
     "metadata": {},
     "output_type": "display_data"
    }
   ],
   "source": [
    "plt.hist(art_df['polarity'], bins=50);\n",
    "plt.title('Distribution of sentiment scores across tech articles')"
   ]
  },
  {
   "cell_type": "markdown",
   "metadata": {},
   "source": [
    "# WordCloud"
   ]
  },
  {
   "cell_type": "code",
   "execution_count": 92,
   "metadata": {
    "collapsed": true
   },
   "outputs": [],
   "source": [
    "from sklearn.feature_extraction.text import CountVectorizer\n",
    "\n",
    "v = TfidfVectorizer(stop_words='english', strip_accents= 'ascii', min_df=0.005)\n",
    "a = v.fit_transform(art_df[art_df['body'].apply(lambda x: 'hamze' not in x)]['body'])\n",
    "\n",
    "df2 = pd.DataFrame(a.toarray(), columns=v.get_feature_names())\n",
    "df2.columns = [i[0].upper() + i[1:] for i in df2.columns]\n",
    "\n",
    "wCloud = df2.sum().sort_values(ascending=False).head(200)\n",
    "\n",
    "wCloud = wCloud/wCloud.iloc[0]*100\n",
    "wCloud = wCloud.apply(lambda x: int(x))\n",
    "\n",
    "#dump words to a js file to build a D3 wordcloud (DONT STEM)\n",
    "\n",
    "with open('wordcloud/static/article_dump.js', 'w') as f:\n",
    "    f.write('article_dump = [')\n",
    "    for i in range(wCloud.shape[0]):\n",
    "        f.write('{text: \\'' + wCloud.index[i] + '\\', size: ' + str(wCloud.iloc[i]) + '},\\n')\n",
    "    f.write('];')"
   ]
  },
  {
   "cell_type": "markdown",
   "metadata": {},
   "source": [
    "# TFIDF, LSA Vectorization"
   ]
  },
  {
   "cell_type": "code",
   "execution_count": 81,
   "metadata": {},
   "outputs": [
    {
     "data": {
      "text/plain": [
       "0.76755476288236868"
      ]
     },
     "execution_count": 81,
     "metadata": {},
     "output_type": "execute_result"
    }
   ],
   "source": [
    "from sklearn.pipeline import Pipeline\n",
    "from sklearn.feature_extraction.text import TfidfVectorizer\n",
    "from sklearn.decomposition import TruncatedSVD\n",
    "from sklearn.preprocessing import Normalizer\n",
    "\n",
    "dims = 250\n",
    "\n",
    "pipe = Pipeline([('tfidf', TfidfVectorizer(stop_words='english', tokenizer = word_tokenize, \\\n",
    "                        min_df=0.005, strip_accents= 'ascii', ngram_range=(1,3))),\n",
    "                ('lsa', TruncatedSVD(dims, algorithm = 'arpack')),\n",
    "                ('normalizer', Normalizer())])\n",
    "\n",
    "#pipe.fit_transform(art_df['body'])\n",
    "\n",
    "df2 = pd.DataFrame(pipe.fit_transform(art_df['body']))\n",
    "\n",
    "pipe.steps[1][1].explained_variance_ratio_.sum()"
   ]
  },
  {
   "cell_type": "code",
   "execution_count": 82,
   "metadata": {},
   "outputs": [
    {
     "data": {
      "text/plain": [
       "<matplotlib.text.Text at 0x19e4d1b7b00>"
      ]
     },
     "execution_count": 82,
     "metadata": {},
     "output_type": "execute_result"
    },
    {
     "data": {
      "image/png": "[encoded data removed]",
      "text/plain": [
       "<matplotlib.figure.Figure at 0x19e4ca44278>"
      ]
     },
     "metadata": {},
     "output_type": "display_data"
    }
   ],
   "source": [
    "dims2 = range(1,dims+1)\n",
    "plt.plot(dims2, np.cumsum(pipe.steps[1][1].explained_variance_ratio_))\n",
    "plt.title('Total input variance across dimensions')\n",
    "plt.xlabel('number of LSA dimensions')\n",
    "plt.ylabel('Explained fraction of input variance')"
   ]
  },
  {
   "cell_type": "markdown",
   "metadata": {},
   "source": [
    "# LSA Topic modeling"
   ]
  },
  {
   "cell_type": "code",
   "execution_count": 83,
   "metadata": {},
   "outputs": [
    {
     "name": "stdout",
     "output_type": "stream",
     "text": [
      "                                    Topic 1:                                    \n",
      "compani app googl like use new\n",
      "--------------------------------------------------------------------------------\n",
      "                                    Topic 2:                                    \n",
      "stormer daili stormer daili site domain hate\n",
      "--------------------------------------------------------------------------------\n",
      "                                    Topic 3:                                    \n",
      "uber benchmark kalanick board compani investor\n",
      "--------------------------------------------------------------------------------\n",
      "                                    Topic 4:                                    \n",
      "netflix disney stream tv content rhime\n",
      "--------------------------------------------------------------------------------\n",
      "                                    Topic 5:                                    \n",
      "uber app googl benchmark kalanick netflix\n",
      "--------------------------------------------------------------------------------\n",
      "                                    Topic 6:                                    \n",
      "disrupt startup amazon servic deliveri ticket\n",
      "--------------------------------------------------------------------------------\n",
      "                                    Topic 7:                                    \n",
      "facebook disrupt startup ticket sf disrupt sf\n",
      "--------------------------------------------------------------------------------\n",
      "                                    Topic 8:                                    \n",
      "facebook video camera instagram stori news\n",
      "--------------------------------------------------------------------------------\n",
      "                                    Topic 9:                                    \n",
      "fcc hbo comment net net neutral neutral\n",
      "--------------------------------------------------------------------------------\n",
      "                                   Topic 10:                                    \n",
      "space dragon nasa launch iss googl\n",
      "--------------------------------------------------------------------------------\n",
      "                                   Topic 11:                                    \n",
      "amazon game target deliveri day deliveri restock\n",
      "--------------------------------------------------------------------------------\n",
      "                                   Topic 12:                                    \n",
      "dragon space camera iss nasa spacex\n",
      "--------------------------------------------------------------------------------\n",
      "                                   Topic 13:                                    \n",
      "hbo episod hacker leak data million\n",
      "--------------------------------------------------------------------------------\n",
      "                                   Topic 14:                                    \n",
      "appl council million intel presid trump\n",
      "--------------------------------------------------------------------------------\n",
      "                                   Topic 15:                                    \n",
      "hbo target amazon googl episod deliveri\n",
      "--------------------------------------------------------------------------------\n"
     ]
    }
   ],
   "source": [
    "def print_topic_top_words(pipe, n_topics=15, n_words=6):\n",
    "    cv = pipe.steps[0][1]\n",
    "    model = pipe.steps[1][1]\n",
    "    feature_names = cv.get_feature_names()\n",
    "    \n",
    "    for topic_num in range(n_topics):\n",
    "        topic_mat = model.components_[topic_num]\n",
    "        \n",
    "        print('Topic {}:'.format(topic_num + 1).center(80))\n",
    "        \n",
    "        topic_values = sorted(zip(topic_mat, feature_names), \n",
    "                              reverse=True)[:n_words]\n",
    "        print(' '.join([y for x,y in topic_values]))\n",
    "        print('-'*80)\n",
    "        \n",
    "print_topic_top_words(pipe)"
   ]
  },
  {
   "cell_type": "markdown",
   "metadata": {},
   "source": [
    "# K-means"
   ]
  },
  {
   "cell_type": "code",
   "execution_count": 84,
   "metadata": {
    "collapsed": true
   },
   "outputs": [],
   "source": [
    "from sklearn import metrics\n",
    "from sklearn.metrics import pairwise_distances\n",
    "from sklearn.metrics import silhouette_score\n",
    "from sklearn.preprocessing import scale\n",
    "from sklearn.datasets import fetch_mldata\n",
    "from sklearn.cluster import KMeans\n",
    "from sklearn.utils import shuffle"
   ]
  },
  {
   "cell_type": "code",
   "execution_count": 85,
   "metadata": {},
   "outputs": [
    {
     "data": {
      "text/plain": [
       "labels\n",
       "0     28\n",
       "1     17\n",
       "2     15\n",
       "3     39\n",
       "4     16\n",
       "5      9\n",
       "6     26\n",
       "7     16\n",
       "8     29\n",
       "9      7\n",
       "10    14\n",
       "11    22\n",
       "12    30\n",
       "13    19\n",
       "14    23\n",
       "15    39\n",
       "16    16\n",
       "17    30\n",
       "18    86\n",
       "19    13\n",
       "Name: body, dtype: int64"
      ]
     },
     "execution_count": 85,
     "metadata": {},
     "output_type": "execute_result"
    }
   ],
   "source": [
    "n_clus=20\n",
    "km = KMeans(n_clusters=n_clus)\n",
    "km.fit(df2)\n",
    "art_df['labels'] = km.labels_\n",
    "art_df.groupby('labels')['body'].count()"
   ]
  },
  {
   "cell_type": "code",
   "execution_count": null,
   "metadata": {
    "collapsed": true
   },
   "outputs": [],
   "source": [
    "art_df[art_df['labels']==19].title"
   ]
  },
  {
   "cell_type": "code",
   "execution_count": 86,
   "metadata": {
    "collapsed": true
   },
   "outputs": [],
   "source": [
    "#extract keywords from clusters\n",
    "\n",
    "def get_keywords(cluster):\n",
    "    tf = TfidfVectorizer(stop_words='english', tokenizer = word_tokenize, \\\n",
    "                        min_df=0.005, strip_accents= 'ascii', ngram_range=(1,1))\n",
    "    X = tf.fit_transform(cluster).toarray()\n",
    "    return ' '.join(pd.DataFrame(X, columns=tf.get_feature_names()).mean().sort_values(ascending=False).index[:3])\n",
    "\n",
    "keywords = art_df.groupby('labels')['body'].agg(get_keywords)"
   ]
  },
  {
   "cell_type": "code",
   "execution_count": 87,
   "metadata": {},
   "outputs": [
    {
     "data": {
      "text/html": [
       "<div>\n",
       "<style>\n",
       "    .dataframe thead tr:only-child th {\n",
       "        text-align: right;\n",
       "    }\n",
       "\n",
       "    .dataframe thead th {\n",
       "        text-align: left;\n",
       "    }\n",
       "\n",
       "    .dataframe tbody tr th {\n",
       "        vertical-align: top;\n",
       "    }\n",
       "</style>\n",
       "<table border=\"1\" class=\"dataframe\">\n",
       "  <thead>\n",
       "    <tr>\n",
       "      <th></th>\n",
       "      <th>polarity</th>\n",
       "      <th>title</th>\n",
       "      <th>keywords</th>\n",
       "    </tr>\n",
       "    <tr>\n",
       "      <th></th>\n",
       "      <th>median</th>\n",
       "      <th>first</th>\n",
       "      <th></th>\n",
       "    </tr>\n",
       "    <tr>\n",
       "      <th>labels</th>\n",
       "      <th></th>\n",
       "      <th></th>\n",
       "      <th></th>\n",
       "    </tr>\n",
       "  </thead>\n",
       "  <tbody>\n",
       "    <tr>\n",
       "      <th>0</th>\n",
       "      <td>0.97095</td>\n",
       "      <td>Netflix in talks to retain Marvel and Star War...</td>\n",
       "      <td>netflix disney stream</td>\n",
       "    </tr>\n",
       "    <tr>\n",
       "      <th>1</th>\n",
       "      <td>-0.96720</td>\n",
       "      <td>Google drops domain hosting for infamous neo-N...</td>\n",
       "      <td>stormer daili site</td>\n",
       "    </tr>\n",
       "    <tr>\n",
       "      <th>2</th>\n",
       "      <td>0.96980</td>\n",
       "      <td>NGOs and nonprofits, apply to exhibit at TechC...</td>\n",
       "      <td>disrupt startup ticket</td>\n",
       "    </tr>\n",
       "    <tr>\n",
       "      <th>3</th>\n",
       "      <td>0.96760</td>\n",
       "      <td>Machine learning can tell if you’re wearing sw...</td>\n",
       "      <td>compani use work</td>\n",
       "    </tr>\n",
       "    <tr>\n",
       "      <th>4</th>\n",
       "      <td>0.93445</td>\n",
       "      <td>Mighty fills an iPod shuffle-sized hole for Sp...</td>\n",
       "      <td>devic alexa phone</td>\n",
       "    </tr>\n",
       "    <tr>\n",
       "      <th>5</th>\n",
       "      <td>0.97580</td>\n",
       "      <td>Military tech could be Amazon’s secret to chea...</td>\n",
       "      <td>target amazon day</td>\n",
       "    </tr>\n",
       "    <tr>\n",
       "      <th>6</th>\n",
       "      <td>0.97565</td>\n",
       "      <td>The Minifree Libreboot T400 is free as in freedom</td>\n",
       "      <td>batteri camera tesla</td>\n",
       "    </tr>\n",
       "    <tr>\n",
       "      <th>7</th>\n",
       "      <td>0.97955</td>\n",
       "      <td>Why HPE is sending a supercomputer to the ISS ...</td>\n",
       "      <td>space comput launch</td>\n",
       "    </tr>\n",
       "    <tr>\n",
       "      <th>8</th>\n",
       "      <td>0.96190</td>\n",
       "      <td>No Man’s Sky version 1.3 is live, adds “joint ...</td>\n",
       "      <td>game sonic new</td>\n",
       "    </tr>\n",
       "    <tr>\n",
       "      <th>9</th>\n",
       "      <td>-0.85460</td>\n",
       "      <td>HBO hackers release Curb Your Enthusiasm episodes</td>\n",
       "      <td>hbo episod hacker</td>\n",
       "    </tr>\n",
       "    <tr>\n",
       "      <th>10</th>\n",
       "      <td>0.63215</td>\n",
       "      <td>FCC faces backlash for saying Americans might ...</td>\n",
       "      <td>tito fcc hamz</td>\n",
       "    </tr>\n",
       "    <tr>\n",
       "      <th>11</th>\n",
       "      <td>0.96740</td>\n",
       "      <td>Another record low for Snap after 14% drop pos...</td>\n",
       "      <td>facebook snap camera</td>\n",
       "    </tr>\n",
       "    <tr>\n",
       "      <th>12</th>\n",
       "      <td>0.95435</td>\n",
       "      <td>Popular writing app Ulysses switches to subscr...</td>\n",
       "      <td>app video user</td>\n",
       "    </tr>\n",
       "    <tr>\n",
       "      <th>13</th>\n",
       "      <td>0.88390</td>\n",
       "      <td>Uber shareholder group asks Benchmark to step ...</td>\n",
       "      <td>uber benchmark compani</td>\n",
       "    </tr>\n",
       "    <tr>\n",
       "      <th>14</th>\n",
       "      <td>0.92460</td>\n",
       "      <td>Toyota, Intel and others form big data group f...</td>\n",
       "      <td>car drive self</td>\n",
       "    </tr>\n",
       "    <tr>\n",
       "      <th>15</th>\n",
       "      <td>0.92170</td>\n",
       "      <td>Sleeperbot is the best place to host your fant...</td>\n",
       "      <td>game like play</td>\n",
       "    </tr>\n",
       "    <tr>\n",
       "      <th>16</th>\n",
       "      <td>0.94485</td>\n",
       "      <td>Apple reportedly in talks with Aetna to bring ...</td>\n",
       "      <td>appl aetna health</td>\n",
       "    </tr>\n",
       "    <tr>\n",
       "      <th>17</th>\n",
       "      <td>0.92745</td>\n",
       "      <td>Plasticity wants to help chatbots seem less ro...</td>\n",
       "      <td>googl allo app</td>\n",
       "    </tr>\n",
       "    <tr>\n",
       "      <th>18</th>\n",
       "      <td>0.93190</td>\n",
       "      <td>Deep learning could discover new plant species...</td>\n",
       "      <td>compani data year</td>\n",
       "    </tr>\n",
       "    <tr>\n",
       "      <th>19</th>\n",
       "      <td>-0.98910</td>\n",
       "      <td>Gaming chat app Discord starts shutting down r...</td>\n",
       "      <td>hate white site</td>\n",
       "    </tr>\n",
       "  </tbody>\n",
       "</table>\n",
       "</div>"
      ],
      "text/plain": [
       "       polarity                                              title  \\\n",
       "         median                                              first   \n",
       "labels                                                               \n",
       "0       0.97095  Netflix in talks to retain Marvel and Star War...   \n",
       "1      -0.96720  Google drops domain hosting for infamous neo-N...   \n",
       "2       0.96980  NGOs and nonprofits, apply to exhibit at TechC...   \n",
       "3       0.96760  Machine learning can tell if you’re wearing sw...   \n",
       "4       0.93445  Mighty fills an iPod shuffle-sized hole for Sp...   \n",
       "5       0.97580  Military tech could be Amazon’s secret to chea...   \n",
       "6       0.97565  The Minifree Libreboot T400 is free as in freedom   \n",
       "7       0.97955  Why HPE is sending a supercomputer to the ISS ...   \n",
       "8       0.96190  No Man’s Sky version 1.3 is live, adds “joint ...   \n",
       "9      -0.85460  HBO hackers release Curb Your Enthusiasm episodes   \n",
       "10      0.63215  FCC faces backlash for saying Americans might ...   \n",
       "11      0.96740  Another record low for Snap after 14% drop pos...   \n",
       "12      0.95435  Popular writing app Ulysses switches to subscr...   \n",
       "13      0.88390  Uber shareholder group asks Benchmark to step ...   \n",
       "14      0.92460  Toyota, Intel and others form big data group f...   \n",
       "15      0.92170  Sleeperbot is the best place to host your fant...   \n",
       "16      0.94485  Apple reportedly in talks with Aetna to bring ...   \n",
       "17      0.92745  Plasticity wants to help chatbots seem less ro...   \n",
       "18      0.93190  Deep learning could discover new plant species...   \n",
       "19     -0.98910  Gaming chat app Discord starts shutting down r...   \n",
       "\n",
       "                      keywords  \n",
       "                                \n",
       "labels                          \n",
       "0        netflix disney stream  \n",
       "1           stormer daili site  \n",
       "2       disrupt startup ticket  \n",
       "3             compani use work  \n",
       "4            devic alexa phone  \n",
       "5            target amazon day  \n",
       "6         batteri camera tesla  \n",
       "7          space comput launch  \n",
       "8               game sonic new  \n",
       "9            hbo episod hacker  \n",
       "10               tito fcc hamz  \n",
       "11        facebook snap camera  \n",
       "12              app video user  \n",
       "13      uber benchmark compani  \n",
       "14              car drive self  \n",
       "15              game like play  \n",
       "16           appl aetna health  \n",
       "17              googl allo app  \n",
       "18           compani data year  \n",
       "19             hate white site  "
      ]
     },
     "execution_count": 87,
     "metadata": {},
     "output_type": "execute_result"
    }
   ],
   "source": [
    "results = art_df.groupby('labels').agg({'polarity': ['median'], 'title':'first'})\n",
    "results['keywords'] = keywords\n",
    "results"
   ]
  },
  {
   "cell_type": "markdown",
   "metadata": {},
   "source": [
    "# tSNE; Further dimensionality reduction"
   ]
  },
  {
   "cell_type": "code",
   "execution_count": 88,
   "metadata": {
    "collapsed": true
   },
   "outputs": [],
   "source": [
    "#run tsne so we can get a 2D visualization of clusters\n",
    "from sklearn.manifold import TSNE\n",
    "\n",
    "tsne = TSNE()\n",
    "\n",
    "df3 = pd.DataFrame(tsne.fit_transform(df2))"
   ]
  },
  {
   "cell_type": "code",
   "execution_count": 89,
   "metadata": {
    "scrolled": false
   },
   "outputs": [
    {
     "data": {
      "text/plain": [
       "<matplotlib.text.Text at 0x19e49049f28>"
      ]
     },
     "execution_count": 89,
     "metadata": {},
     "output_type": "execute_result"
    },
    {
     "data": {
      "image/png": "[encoded data removed]",
      "text/plain": [
       "<matplotlib.figure.Figure at 0x19e4cb9b630>"
      ]
     },
     "metadata": {},
     "output_type": "display_data"
    }
   ],
   "source": [
    "df3['labels'] = art_df['labels'].values\n",
    "\n",
    "colors = ['red','blue', 'green', 'orange', 'purple', \\\n",
    "          'yellow', 'black', 'brown', 'gray', 'darkgoldenrod',\\\n",
    "          'fuchsia', 'lime', 'orchid','teal', 'chartreuse', \\\n",
    "          'coral', 'gold', 'sandybrown', 'powderblue', 'seagreen']\n",
    "\n",
    "\n",
    "for i in range(n_clus):\n",
    "    if 'tito' not in keywords.values[i]:\n",
    "        plt.scatter(df3[df3['labels']==i].iloc[:,0].values, df3[df3['labels']==i].iloc[:,1].values, c= colors[i % len(colors)], label=keywords.values[i])\n",
    "\n",
    "plt.legend(bbox_to_anchor=(1.05, 1), loc=2, borderaxespad=0.)\n",
    "plt.title('Topic clusters: 08/11/2017-8/17/2017')"
   ]
  },
  {
   "cell_type": "code",
   "execution_count": 91,
   "metadata": {},
   "outputs": [
    {
     "data": {
      "text/plain": [
       "author      494\n",
       "body        494\n",
       "site        494\n",
       "tags        494\n",
       "title       494\n",
       "polarity    494\n",
       "labels      494\n",
       "dtype: int64"
      ]
     },
     "execution_count": 91,
     "metadata": {},
     "output_type": "execute_result"
    }
   ],
   "source": [
    "art_df.groupby('date').count().sum()"
   ]
  },
  {
   "cell_type": "markdown",
   "metadata": {},
   "source": [
    "# Getting the elbow curve"
   ]
  },
  {
   "cell_type": "code",
   "execution_count": 95,
   "metadata": {},
   "outputs": [
    {
     "name": "stdout",
     "output_type": "stream",
     "text": [
      "Cluster numbers: 2\n",
      "Cluster numbers: 3\n",
      "Cluster numbers: 4\n",
      "Cluster numbers: 5\n",
      "Cluster numbers: 6\n",
      "Cluster numbers: 7\n",
      "Cluster numbers: 8\n",
      "Cluster numbers: 9\n",
      "Cluster numbers: 10\n",
      "Cluster numbers: 11\n",
      "Cluster numbers: 12\n",
      "Cluster numbers: 13\n",
      "Cluster numbers: 14\n",
      "Cluster numbers: 15\n",
      "Cluster numbers: 16\n",
      "Cluster numbers: 17\n",
      "Cluster numbers: 18\n",
      "Cluster numbers: 19\n",
      "Cluster numbers: 20\n",
      "Cluster numbers: 21\n",
      "Cluster numbers: 22\n",
      "Cluster numbers: 23\n",
      "Cluster numbers: 24\n",
      "Cluster numbers: 25\n",
      "Cluster numbers: 26\n",
      "Cluster numbers: 27\n",
      "Cluster numbers: 28\n",
      "Cluster numbers: 29\n"
     ]
    }
   ],
   "source": [
    "SSEs = []\n",
    "Sil_coefs = []\n",
    "Inertia = []\n",
    "k_range = range(2,30)\n",
    "\n",
    "for k in k_range:\n",
    "    print('Cluster numbers: ' + str(k))\n",
    "    km = KMeans(n_clusters=k, random_state=1)\n",
    "    km.fit(df2)\n",
    "    labels = km.labels_\n",
    "    Sil_coefs.append(metrics.silhouette_score(df2, labels, metric='euclidean'))\n",
    "    # SSEs.append(get_SSE(X_digits, labels)) # The SSE is just inertia, we\n",
    "    SSEs.append(km.inertia_)            # could have just said km.inertia_"
   ]
  },
  {
   "cell_type": "code",
   "execution_count": 96,
   "metadata": {},
   "outputs": [
    {
     "data": {
      "text/plain": [
       "<matplotlib.text.Text at 0x19e4d1ff470>"
      ]
     },
     "execution_count": 96,
     "metadata": {},
     "output_type": "execute_result"
    },
    {
     "data": {
      "image/png": "[encoded data removed]",
      "text/plain": [
       "<matplotlib.figure.Figure at 0x19e4b4a63c8>"
      ]
     },
     "metadata": {},
     "output_type": "display_data"
    }
   ],
   "source": [
    "fig, (ax1, ax2) = plt.subplots(1,2, figsize=(15,5), sharex=True)\n",
    "k_clusters = k_range\n",
    "# the silhouete coefficient is (b - a) / max(a, b), where b(i) is the average distance between a point i and every other point from the closest cluster; \n",
    "# and a(i) is the average distance between a point i and every other point within its own cluster.  It has a value from -1,1. 1 means it belongs to the cluster.\n",
    "ax1.plot(k_clusters, Sil_coefs)\n",
    "ax1.set_xlabel('number of clusters')\n",
    "ax1.set_ylabel('silhouette coefficient')\n",
    "ax1.set_title('silhouette plot')\n",
    "\n",
    "# plot here on ax2\n",
    "ax2.plot(k_clusters, SSEs)\n",
    "ax2.set_xlabel('number of clusters')\n",
    "ax2.set_ylabel('Inertia');\n",
    "ax2.set_title('Inertia Curve')"
   ]
  },
  {
   "cell_type": "markdown",
   "metadata": {
    "collapsed": true
   },
   "source": [
    "# Other Clustering"
   ]
  },
  {
   "cell_type": "code",
   "execution_count": null,
   "metadata": {
    "collapsed": true
   },
   "outputs": [],
   "source": [
    "from sklearn.cluster import DBSCAN,AgglomerativeClustering, SpectralClustering\n",
    "from sklearn.metrics.pairwise import cosine_distances\n",
    "\n",
    "#metric = 'euclidean'\n",
    "metric = 'cosine'\n",
    "\n",
    "clus = DBSCAN(eps=0.4, min_samples=3, metric=metric, algorithm='brute')\n",
    "#clus = SpectralClustering(n_clusters=50, affinity='cosine', n_init=15, n_neighbors=5)\n",
    "\n",
    "\n",
    "clus.fit(df2)\n",
    "\n",
    "art_df['labels'] = clus.labels_\n",
    "\n",
    "art_df.groupby('labels')['body'].count()"
   ]
  },
  {
   "cell_type": "code",
   "execution_count": null,
   "metadata": {
    "collapsed": true
   },
   "outputs": [],
   "source": [
    "#What articles seem to be related?\n",
    "art_df[art_df['labels'] == 12]['title'].values"
   ]
  },
  {
   "cell_type": "markdown",
   "metadata": {},
   "source": [
    "# LDA Topic modeling"
   ]
  },
  {
   "cell_type": "code",
   "execution_count": 18,
   "metadata": {},
   "outputs": [
    {
     "name": "stdout",
     "output_type": "stream",
     "text": [
      "Topic ID: 1\n",
      "compani model music like servic new\n",
      "Topic ID: 2\n",
      "compani app game year use user\n",
      "Topic ID: 3\n",
      "compani appl new servic softbank like\n",
      "Topic ID: 4\n",
      "compani new like use car musk\n",
      "Topic ID: 5\n",
      "compani year new appl game servic\n",
      "Topic ID: 6\n",
      "compani googl facebook million year user\n",
      "Topic ID: 7\n",
      "tito tito hamz hamz suit san francisco street suit san tito hamz john\n",
      "Topic ID: 8\n",
      "compani app fcc googl servic use\n",
      "Topic ID: 9\n",
      "compani use like fitbit appl devic\n",
      "Topic ID: 10\n",
      "compani use data app appl like\n"
     ]
    }
   ],
   "source": [
    "from sklearn.decomposition import LatentDirichletAllocation as LDA\n",
    "\n",
    "pipe2 = [\n",
    "    ('tfidf', TfidfVectorizer(stop_words='english', tokenizer = word_tokenize, \\\n",
    "                              min_df=0.001, strip_accents= 'ascii', ngram_range=(1,3))),\n",
    "    ('lda', LDA(n_topics=10, learning_method='batch'))]\n",
    "\n",
    "pipe2 = Pipeline(pipe2)\n",
    "\n",
    "pipe2.fit_transform(art_df['body'])\n",
    "\n",
    "def topics(pipe, n_words=5):\n",
    "    features = pipe.steps[0][1].get_feature_names()\n",
    "    for i, topic in enumerate(pipe.steps[1][1].components_):\n",
    "        print('Topic ID:', i+1)\n",
    "        print(' '.join([features[i] for i in topic.argsort()[::-1][:n_words]]))\n",
    "\n",
    "topics(pipe2, 6)"
   ]
  }
 ],
 "metadata": {
  "kernelspec": {
   "display_name": "Python 3",
   "language": "python",
   "name": "python3"
  },
  "language_info": {
   "codemirror_mode": {
    "name": "ipython",
    "version": 3
   },
   "file_extension": ".py",
   "mimetype": "text/x-python",
   "name": "python",
   "nbconvert_exporter": "python",
   "pygments_lexer": "ipython3",
   "version": "3.6.2"
  }
 },
 "nbformat": 4,
 "nbformat_minor": 2
}
